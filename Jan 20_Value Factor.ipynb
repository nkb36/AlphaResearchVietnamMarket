{
 "cells": [
  {
   "cell_type": "markdown",
   "id": "8cb40e6d",
   "metadata": {},
   "source": [
    "## Importing dependencies"
   ]
  },
  {
   "cell_type": "code",
   "execution_count": 46,
   "id": "c7bec7bd",
   "metadata": {},
   "outputs": [],
   "source": [
    "# Import dependencies\n",
    "import numpy as np\n",
    "import matplotlib.pyplot as plt\n",
    "from numpy import loadtxt\n",
    "import pandas as pd\n",
    "from tqdm import tqdm\n",
    "from pprint import pprint\n",
    "import requests\n",
    "import json\n",
    "import csv\n",
    "import math\n",
    "from datetime import datetime\n",
    "import calendar\n",
    "from dateutil.relativedelta import relativedelta\n",
    "import statistics"
   ]
  },
  {
   "cell_type": "markdown",
   "id": "4093fd05",
   "metadata": {},
   "source": [
    "## Setting parameters for the Program"
   ]
  },
  {
   "cell_type": "code",
   "execution_count": 47,
   "id": "7ff8fa52",
   "metadata": {},
   "outputs": [],
   "source": [
    "# Set begin and end dates for backtesting\n",
    "begin_date = datetime(2008, 12, 31)\n",
    "end_date = datetime(2022, 12, 31)\n",
    "\n",
    "# Set number of months between each restructuring\n",
    "restructuring_period = 12\n",
    "\n",
    "# Set number of months to look back for financial data\n",
    "lookback_period = 6\n",
    "\n",
    "# Set number of months to look back for pricing for beta\n",
    "beta_period = 0 # Currently set to 0, to be implemented later\n",
    "\n",
    "# Set number of portfolios\n",
    "num_portfolio = 5\n",
    "\n",
    "# Set industries to not be included in backtesting\n",
    "industries_excluded = ['Dịch vụ tài chính L2', 'Ngân hàng L2', 'Bảo hiểm L2']\n",
    "\n",
    "# Set liquidity restriction by value\n",
    "min_liquidity = 1000000000 #1 Billion VND\n",
    "\n",
    "# Set which benchmark to use: VNINDEX vs. Basket of stocks in the universe\n",
    "benchmark = \"VNINDEX\"\n",
    "\n",
    "# Set what to print out\n",
    "data_show = False # Printing out dataframes of raw and cleaned datasets\n",
    "universe_show = False # Printing out tickers in investable universe\n",
    "portfolios_show  = False # Printing out tickers in each portfolio at restructuring time\n",
    "results_show = True # Printing out return & risk metrics of each portfolio"
   ]
  },
  {
   "cell_type": "code",
   "execution_count": 48,
   "id": "05af18d8",
   "metadata": {},
   "outputs": [
    {
     "name": "stdout",
     "output_type": "stream",
     "text": [
      "DatetimeIndex(['2008-12-31', '2009-12-31', '2010-12-31', '2011-12-31',\n",
      "               '2012-12-31', '2013-12-31', '2014-12-31', '2015-12-31',\n",
      "               '2016-12-31', '2017-12-31', '2018-12-31', '2019-12-31',\n",
      "               '2020-12-31', '2021-12-31', '2022-12-31'],\n",
      "              dtype='datetime64[ns]', freq='A-DEC')\n"
     ]
    }
   ],
   "source": [
    "backtest_monthseries = pd.date_range(start=begin_date, end=end_date, freq = 'M')\n",
    "backtest_yearseries = pd.date_range(start=begin_date, end=end_date, freq = 'Y')\n",
    "print(backtest_yearseries)"
   ]
  },
  {
   "cell_type": "code",
   "execution_count": 49,
   "id": "71dc1075",
   "metadata": {},
   "outputs": [],
   "source": [
    "# Get date time series of the starting date of each restructuring period\n",
    "num_months = (end_date.year - begin_date.year) * 12 + end_date.month - begin_date.month\n",
    "num_periods = int(num_months / restructuring_period)\n",
    "\n",
    "start_periods = []\n",
    "for period in range(num_periods):\n",
    "    next_period  = begin_date + relativedelta(months = period * restructuring_period) + relativedelta(day=31)\n",
    "    start_periods.append(next_period)\n",
    "restructuring_dates = pd.DatetimeIndex(start_periods)"
   ]
  },
  {
   "cell_type": "markdown",
   "id": "4756c799",
   "metadata": {},
   "source": [
    "## Loading and Cleaning Data"
   ]
  },
  {
   "cell_type": "code",
   "execution_count": 50,
   "id": "1ee7ba7d",
   "metadata": {},
   "outputs": [],
   "source": [
    "# Function to get the organCode from list of all tickers\n",
    "def process(filename:str=\"/Users/nambuismbp/projects/investment_research/data/codedict.txt\") -> dict:\n",
    "    ticker_to_organ_code = {}\n",
    "    with open(filename, \"r\") as json_file:\n",
    "        data = json.load(json_file)\n",
    "        ticker_to_organ_code = {\n",
    "            item[\"ticker\"]: item[\"organCode\"] for item in data[\"items\"]}\n",
    "        return ticker_to_organ_code\n",
    "    return None\n",
    "\n",
    "ticker_dict = process()\n",
    "\n",
    "# Function to get ticker from the organCode\n",
    "def get_ticker(val):\n",
    "    for key, value in ticker_dict.items():\n",
    "        if val == value:\n",
    "            return key"
   ]
  },
  {
   "cell_type": "code",
   "execution_count": 51,
   "id": "87799a0a",
   "metadata": {},
   "outputs": [],
   "source": [
    "# Load in sector data\n",
    "df_sector = pd.read_csv(r'/Users/nambuismbp/projects/investment_research/data/descriptive_info.csv')\n",
    "if data_show:\n",
    "    print(df_sector.head())"
   ]
  },
  {
   "cell_type": "code",
   "execution_count": 52,
   "id": "445bdbe7",
   "metadata": {},
   "outputs": [],
   "source": [
    "# Load in pricing data\n",
    "df_pricing_info = pd.read_csv(r'/Users/nambuismbp/projects/investment_research/data/pricing_data.csv')\n",
    "if data_show:\n",
    "    print(\"Raw Pricing Data, last 5 rows\")\n",
    "    print(df_pricing_info.tail())\n",
    "\n",
    "# Uniform column name to be ticker\n",
    "for col in df_pricing_info:\n",
    "    df_pricing_info.rename(columns = {col: get_ticker(col)}, inplace = True)\n",
    "\n",
    "# Reverse dataframe to make the dates in ascending order\n",
    "df_pricing_info = df_pricing_info.reindex(index=df_pricing_info.index[::-1])\n",
    "\n",
    "# Create new monthly date series based on input data\n",
    "month_series_pricing = pd.date_range('2008-01-31', periods=len(df_pricing_info), freq='M')\n",
    "df_pricing_info['month'] = month_series_pricing\n",
    "\n",
    "# Replace the first column with new date series and set that as index\n",
    "df_pricing_info = df_pricing_info.drop(df_pricing_info.columns[[0]], axis = \"columns\")\n",
    "df_pricing_info.set_index(\"month\", inplace = True)\n",
    "\n",
    "if data_show:\n",
    "    print(\"Processed Pricing Data, last 5 rows\")\n",
    "    print(df_pricing_info.tail())"
   ]
  },
  {
   "cell_type": "code",
   "execution_count": 53,
   "id": "447c414c",
   "metadata": {},
   "outputs": [],
   "source": [
    "# Get dataframes of price change in percentage of all stocks\n",
    "df_pricing_pct_change = df_pricing_info.pct_change()\n",
    "if data_show:\n",
    "    print(df_pricing_pct_change)"
   ]
  },
  {
   "cell_type": "code",
   "execution_count": 54,
   "id": "77a65c4e",
   "metadata": {},
   "outputs": [],
   "source": [
    "# Load in trading value data\n",
    "df_trading_value = pd.read_csv('/Users/nambuismbp/projects/investment_research/data/trading_value_data.csv')\n",
    "if data_show:\n",
    "    print(\"Raw Trading Value Data, last 5 rows\")\n",
    "    print(df_trading_value.tail())\n",
    "\n",
    "# Uniform column name to be ticker\n",
    "for col in df_trading_value:\n",
    "    if col != 'date': df_trading_value.rename(columns = {col: get_ticker(col)}, inplace = True)\n",
    "\n",
    "# Reverse dataframe to make the dates in ascending order\n",
    "df_trading_value = df_trading_value.reindex(index=df_trading_value.index[::-1])\n",
    "\n",
    "# Create new monthly date series based on input data\n",
    "month_series_tradingval = pd.date_range('2008-01-31', periods=len(df_trading_value), freq='M')\n",
    "df_trading_value['month'] = month_series_tradingval\n",
    "\n",
    "# Replace the first column with new date series and set that as index\n",
    "df_trading_value = df_trading_value.drop(df_trading_value.columns[[0]], axis = \"columns\")\n",
    "df_trading_value.set_index(\"month\", inplace = True)\n",
    "\n",
    "if data_show:\n",
    "    print(\"Processed Trading Value Data, last 5 rows\")\n",
    "    print(df_trading_value.tail())"
   ]
  },
  {
   "cell_type": "code",
   "execution_count": 55,
   "id": "39ebc0a4",
   "metadata": {},
   "outputs": [],
   "source": [
    "# Load in market returns\n",
    "df_market_return = pd.read_csv('/Users/nambuismbp/projects/investment_research/data/market_return.csv')\n",
    "\n",
    "if data_show:\n",
    "    print(\"Raw Market Retun Data\")\n",
    "    print(df_market_return)\n",
    "\n",
    "# Reverse dataframe to make the dates in ascending order\n",
    "df_market_return = df_market_return.reindex(index=df_market_return.index[::-1])\n",
    "\n",
    "# Create a new month series to replace the first column\n",
    "df_market_return = df_market_return.drop(df_market_return.columns[[0]], axis = \"columns\")\n",
    "\n",
    "month_series_marketreturn = pd.date_range('2000-07-30', periods=len(df_market_return), freq='M')\n",
    "df_market_return['month'] = month_series_marketreturn\n",
    "df_market_return.set_index(\"month\", inplace = True)\n",
    "\n",
    "if data_show:\n",
    "    print(\"Processed Market Return Data\")\n",
    "    print(df_market_return)"
   ]
  },
  {
   "cell_type": "code",
   "execution_count": 56,
   "id": "6cedfb57",
   "metadata": {},
   "outputs": [],
   "source": [
    "# Load in government monthly 10-year bond yields data to represent risk-free rate\n",
    "df_riskfree_rates = pd.read_csv('/Users/nambuismbp/projects/investment_research/data/vietnam_10yr_bondyield.csv')\n",
    "if data_show:\n",
    "    print(\"Raw Risk Free Rate Data\")\n",
    "    print(df_riskfree_rates)\n",
    "    \n",
    "# Reverse dataframe to make the dates in ascending order\n",
    "df_riskfree_rates = df_riskfree_rates.reindex(index=df_riskfree_rates.index[::-1])\n",
    "\n",
    "# Create a new month series to replace the first column\n",
    "df_riskfree_rates = df_riskfree_rates.drop(df_riskfree_rates.columns[[0]], axis = \"columns\")\n",
    "month_series_rfreturn = pd.date_range('2007-08-31', periods=len(df_riskfree_rates), freq='M')\n",
    "df_riskfree_rates['month'] = month_series_rfreturn\n",
    "df_riskfree_rates.set_index(\"month\", inplace = True)\n",
    "\n",
    "if data_show:\n",
    "    print(\"Processed Risk Free Rate Data\")\n",
    "    print(df_riskfree_rates)"
   ]
  },
  {
   "cell_type": "code",
   "execution_count": 57,
   "id": "78750e40",
   "metadata": {},
   "outputs": [],
   "source": [
    "# Load in financial data\n",
    "with open(\"/Users/nambuismbp/projects/investment_research/data/financial_data_dec29.txt\", 'r') as file:\n",
    "    financials = json.load(file)\n",
    "\n",
    "if data_show:\n",
    "    print(financials)"
   ]
  },
  {
   "cell_type": "markdown",
   "id": "2d528023",
   "metadata": {},
   "source": [
    "## Get factor"
   ]
  },
  {
   "cell_type": "code",
   "execution_count": 58,
   "id": "dec831fe",
   "metadata": {},
   "outputs": [],
   "source": [
    "def show_financial_fields(financials=financials):\n",
    "    for ticker, items in financials.items():\n",
    "        fields_list = list(items.keys())\n",
    "        print(\"Financial data available in the dataset\")\n",
    "        print(fields_list)\n",
    "        break"
   ]
  },
  {
   "cell_type": "code",
   "execution_count": 59,
   "id": "81c7a45f",
   "metadata": {},
   "outputs": [
    {
     "name": "stdout",
     "output_type": "stream",
     "text": [
      "Financial data available in the dataset\n",
      "['quarters', 'years', 'ebit', 'tangible_capital', 'num_share', 'total_equity', 'total_debt', 'preferred_stock', 'minority_interest']\n"
     ]
    }
   ],
   "source": [
    "show_financial_fields()"
   ]
  },
  {
   "cell_type": "code",
   "execution_count": 60,
   "id": "b69616f3",
   "metadata": {},
   "outputs": [],
   "source": [
    "def get_financial_data(field, financials=financials) -> pd.DataFrame:\n",
    "    frames = []\n",
    "    \n",
    "    for ticker, values in financials.items():\n",
    "        month_date = []\n",
    "        data = []\n",
    "        if len(values['quarters']) > 0:\n",
    "            for i in range(len(values['quarters'])):\n",
    "                input_dt = datetime(values['years'][i],values['quarters'][i]*3, 1)\n",
    "                month_range = calendar.monthrange(input_dt.year, input_dt.month)\n",
    "                # Get the datetime value based on quarter & year\n",
    "                get_date = datetime(input_dt.year, input_dt.month, month_range[1])\n",
    "                month_date.append(get_date)\n",
    "                # Get the book value\n",
    "                get_data = values[field][i]\n",
    "                data.append(get_data)\n",
    "\n",
    "        # Form a list containing dataframes, each representing one ticker\n",
    "            df_data_toappend = pd.DataFrame({\"quarter\": month_date, ticker : data})\n",
    "            df_data_toappend.set_index(\"quarter\", inplace = True)\n",
    "            frames.append(df_data_toappend)\n",
    "\n",
    "    # Concatenate all dataframes along the column axis based on their date indices\n",
    "    df_data = pd.concat(frames, axis = \"columns\", join = 'outer')\n",
    "\n",
    "    # Uniform column name to be ticker\n",
    "    for col in df_data:\n",
    "        df_data.rename(columns = {col: get_ticker(col)}, inplace = True)\n",
    "    \n",
    "    return df_data"
   ]
  },
  {
   "cell_type": "code",
   "execution_count": 61,
   "id": "39313dc8",
   "metadata": {},
   "outputs": [],
   "source": [
    "df_bookvalue = get_financial_data('total_equity')\n",
    "df_numshare = get_financial_data('num_share')\n",
    "\n",
    "df_bookvalue = df_bookvalue[df_bookvalue.index >= begin_date - relativedelta(months = lookback_period) + relativedelta(day=31)]\n",
    "df_numshare = df_numshare[df_numshare.index >= begin_date - relativedelta(months = lookback_period) + relativedelta(day=31)]\n",
    "\n",
    "df_prices_to_calc = df_pricing_info.loc[df_numshare.index]\n",
    "\n",
    "df_market_cap = df_numshare * df_prices_to_calc\n",
    "\n",
    "df_bv_to_ev = df_bookvalue / df_market_cap\n",
    "\n",
    "if data_show:\n",
    "    print(\"Book value to Enterprise value of companies:\")\n",
    "    print(df_bv_to_ev)\n",
    "    "
   ]
  },
  {
   "cell_type": "markdown",
   "id": "a21312a9",
   "metadata": {},
   "source": [
    "## Screening for investable universe"
   ]
  },
  {
   "cell_type": "code",
   "execution_count": 62,
   "id": "3bc398b5",
   "metadata": {},
   "outputs": [],
   "source": [
    "# Select companies that are not=in financial services, banking, or insurance\n",
    "df_sector_screened = df_sector[~df_sector['ICB_Sector_L2'].isin(industries_excluded)]\n",
    "sector_screened_tickerlist = df_sector_screened['Ticker'].tolist()\n",
    "if universe_show:\n",
    "    print(f\"Screening for industries removed {len(df_sector) - len(df_sector_screened)} companies\")"
   ]
  },
  {
   "cell_type": "code",
   "execution_count": 63,
   "id": "3174dd81",
   "metadata": {},
   "outputs": [],
   "source": [
    "def get_universe() -> dict:\n",
    "    universe = {}\n",
    "    for period in restructuring_dates:\n",
    "        prev_period = period - relativedelta(months = beta_period) + relativedelta(day=31)\n",
    "        next_period = period + relativedelta(months = restructuring_period) + relativedelta(day=31)\n",
    "        \n",
    "        # Drop companies without pricing data available in a given year\n",
    "        pricing_data_slice = df_pricing_info.loc[prev_period:next_period]\n",
    "        pricing_data_dropna = pricing_data_slice.dropna(axis = 1)\n",
    "        pricing_data_available = pricing_data_dropna.columns.tolist()\n",
    "        \n",
    "        # Drop companies that do not exceed minimum average daily trading value in a given year\n",
    "        tradingval_data_slice = df_trading_value.loc[period:next_period, pricing_data_available]\n",
    "        liquidity_screened_tickerlist = []\n",
    "        for ticker in tradingval_data_slice:\n",
    "            tradingval_avg_daily = tradingval_data_slice[ticker].mean() / 21 #Average 21 trading days in a month\n",
    "            if tradingval_avg_daily > min_liquidity:\n",
    "                liquidity_screened_tickerlist.append(ticker)\n",
    "        \n",
    "        # Drop companies without bookvalue data available at specified lookback period\n",
    "        financial_period = period - relativedelta(months = lookback_period) + relativedelta(day=31)\n",
    "        bv_to_ev_slice = df_bv_to_ev.loc[financial_period,:]\n",
    "        bv_to_ev_dropna = bv_to_ev_slice.dropna()\n",
    "        bv_to_ev_data_available = bv_to_ev_dropna.index.tolist()\n",
    "        \n",
    "        # Get companies that satisfy all screening conditions\n",
    "        screened_universe = list(set(sector_screened_tickerlist) & set(liquidity_screened_tickerlist) & set(pricing_data_available) & set(bv_to_ev_data_available))\n",
    "        universe[period] = screened_universe\n",
    "        \n",
    "        # Output number of companies meeting each conditions\n",
    "        if universe_show:\n",
    "            print(f\"In the period between {period.year} and {period.year+1}:\")\n",
    "            print(f\"    Pricing data available: {len(pricing_data_available)} companies\")\n",
    "            print(f\"    Meeting liquidity restriction: {len(liquidity_screened_tickerlist)} companies\")\n",
    "            print(f\"    Financial data available: {len(bv_to_ev_data_available)} companies\")\n",
    "            print(f\"    Investable unierse: {len(screened_universe)} companies\")\n",
    "            print()\n",
    "    return universe"
   ]
  },
  {
   "cell_type": "code",
   "execution_count": 64,
   "id": "82cbdc52",
   "metadata": {},
   "outputs": [],
   "source": [
    "universe = get_universe()"
   ]
  },
  {
   "cell_type": "markdown",
   "id": "9003a946",
   "metadata": {},
   "source": [
    "## Rank factors and form portfolios"
   ]
  },
  {
   "cell_type": "code",
   "execution_count": 65,
   "id": "c39df774",
   "metadata": {},
   "outputs": [],
   "source": [
    "def get_portfolios(data_df) -> dict:\n",
    "    portfolios = {}\n",
    "    # Get data based on factor ranking\n",
    "    for period in restructuring_dates:\n",
    "        financial_period = period - relativedelta(months = lookback_period) + relativedelta(day=31)\n",
    "        factor_torank = data_df.loc[financial_period, universe[period]]\n",
    "        factor_torank = factor_torank.squeeze()\n",
    "        \n",
    "        # Get ranking based on factor\n",
    "        ranking = pd.qcut(factor_torank, num_portfolio, labels = False)\n",
    "        portfolios_in_year = []\n",
    "        \n",
    "        # Slice to append into list of portfolios from lowest to highest\n",
    "        for group in range(num_portfolio):\n",
    "            get_portfolios = ranking[ranking == group].index.tolist()\n",
    "            portfolios_in_year.append(get_portfolios)\n",
    "        portfolios[period] = portfolios_in_year\n",
    "    return portfolios"
   ]
  },
  {
   "cell_type": "code",
   "execution_count": 66,
   "id": "342b3f7b",
   "metadata": {},
   "outputs": [],
   "source": [
    "def print_portfolios(portfolios):\n",
    "    for period in portfolios:\n",
    "        for i in range(num_portfolio):\n",
    "            print(f\"At restructuring time {period.date()}, portfolio {i+1} consists of {portfolios[period][i]}\")"
   ]
  },
  {
   "cell_type": "code",
   "execution_count": 67,
   "id": "d4092997",
   "metadata": {},
   "outputs": [],
   "source": [
    "portfolios = get_portfolios(df_bv_to_ev)\n",
    "if portfolios_show:\n",
    "    print_portfolios(portfolios)"
   ]
  },
  {
   "cell_type": "markdown",
   "id": "28a5e468",
   "metadata": {},
   "source": [
    "## Output Functions: Monthly Returns, Excess Returns, Beta, Std. Deviation, and Alpha"
   ]
  },
  {
   "cell_type": "code",
   "execution_count": 68,
   "id": "e85e0207",
   "metadata": {},
   "outputs": [],
   "source": [
    "def get_equal_weighted_monthly_returns(portfolios) -> pd.DataFrame:\n",
    "    allperiods_frames = []\n",
    "    for date in restructuring_dates:\n",
    "        begin_period = date + relativedelta(months = 1) + relativedelta(day=31)\n",
    "        end_period = date + relativedelta(months = restructuring_period) + relativedelta(day=31)\n",
    "        perperiod_frames = []\n",
    "        for i in range(num_portfolio):\n",
    "            # Get list of tickers applicable to a portfolio\n",
    "            single_portfolio = portfolios[date][i]\n",
    "            # Get individual stock returns based on tickers\n",
    "            single_returns = df_pricing_pct_change.loc[begin_period:end_period, single_portfolio]\n",
    "            # Compute mean returns of all stocks in portfolio in a given month\n",
    "            mean_returns = single_returns.mean(axis = 1)\n",
    "            # Get individual dataframes of portfolio returns\n",
    "            df_toappend = pd.DataFrame({f\"Portfolio {i+1}\": mean_returns})\n",
    "            perperiod_frames.append(df_toappend)\n",
    "        \n",
    "        # Concatenate dataframes along columns to get all portfolios in a period\n",
    "        df_larger_toappend = pd.concat(perperiod_frames, axis = \"columns\", join = 'outer')\n",
    "        allperiods_frames.append(df_larger_toappend)\n",
    "        \n",
    "        # Iterate to the next period\n",
    "        period = end_period\n",
    "\n",
    "    # Concatenate dataframes along rows to get all years\n",
    "    df_returns = pd.concat(allperiods_frames, axis = \"rows\", join = 'outer')\n",
    "    return df_returns"
   ]
  },
  {
   "cell_type": "code",
   "execution_count": 69,
   "id": "2928817b",
   "metadata": {},
   "outputs": [],
   "source": [
    "df_numshare = get_financial_data('num_share')\n",
    "def get_value_weighted_monthly_returns(portfolios) -> pd.DataFrame:\n",
    "    allperiods_frames = []\n",
    "    for date in restructuring_dates:\n",
    "        # Get end of months that have returns data\n",
    "        begin_period = date + relativedelta(months = 1) + relativedelta(day=31)\n",
    "        end_period = date + relativedelta(months = restructuring_period) + relativedelta(day=31)\n",
    "        \n",
    "        perperiod_frames = []\n",
    "        for i in range(num_portfolio):\n",
    "            # Get list of tickers applicable to a portfolio\n",
    "            single_portfolio = portfolios[date][i]\n",
    "            # Get individual stock returns based on tickers\n",
    "            single_returns = df_pricing_pct_change.loc[begin_period:end_period, single_portfolio]\n",
    "            # Get market cap of individual stocks in portfolio at beginning date\n",
    "            financial_period = date - relativedelta(months = lookback_period) + relativedelta(day=31)\n",
    "            market_cap = df_pricing_info.loc[date, single_portfolio] * df_numshare.loc[financial_period, single_portfolio]\n",
    "            # Get weights of individual stocks based on market cap\n",
    "            weights = []\n",
    "            for stock in single_portfolio:\n",
    "                weights.append(market_cap[stock] / market_cap.sum())\n",
    "            # Compute mean returns of all stocks in portfolio in a given month\n",
    "            weighted_returns = []\n",
    "            for index, row in single_returns.iterrows():\n",
    "                weighted_returns.append(sum([weights[i] * row.to_list()[i] for i in range(len(row.to_list()))]))\n",
    "            # Get individual dataframes of portfolio returns\n",
    "            df_toappend = pd.DataFrame({f\"Portfolio {i+1}\": weighted_returns}, index = single_returns.index)\n",
    "            perperiod_frames.append(df_toappend)\n",
    "            \n",
    "        # Concatenate dataframes along columns to get all portfolios in a period\n",
    "        df_larger_toappend = pd.concat(perperiod_frames, axis = \"columns\", join = 'outer')\n",
    "        allperiods_frames.append(df_larger_toappend)\n",
    "        \n",
    "        # Iterate to the next period\n",
    "        period = end_period\n",
    "\n",
    "    # Concatenate dataframes along rows to get all years\n",
    "    df_returns = pd.concat(allperiods_frames, axis = \"rows\", join = 'outer')\n",
    "    return df_returns"
   ]
  },
  {
   "cell_type": "code",
   "execution_count": 70,
   "id": "9e4969be",
   "metadata": {},
   "outputs": [],
   "source": [
    "def get_basket_returns(universe) -> pd.DataFrame:\n",
    "    allperiods_frames = []\n",
    "    for date in restructuring_dates:\n",
    "        begin_period = date + relativedelta(months = 1) + relativedelta(day=31)\n",
    "        end_period = date + relativedelta(months = restructuring_period) + relativedelta(day=31)\n",
    "        tickers = universe[date]\n",
    "        single_returns = df_pricing_pct_change.loc[begin_period:end_period, tickers]\n",
    "        financial_period = date - relativedelta(months = lookback_period) + relativedelta(day=31)\n",
    "        market_cap = df_pricing_info.loc[date, tickers] * df_numshare.loc[financial_period, tickers]\n",
    "        weights = []\n",
    "        for stock in tickers:\n",
    "            weights.append(market_cap[stock] / market_cap.sum())\n",
    "        weighted_returns = []\n",
    "        for index, row in single_returns.iterrows():\n",
    "            weighted_returns.append(sum([weights[i] * row.to_list()[i] for i in range(len(row.to_list()))]))\n",
    "        df_toappend = pd.DataFrame({f\"market_return\": weighted_returns}, index = single_returns.index)\n",
    "        allperiods_frames.append(df_toappend)    \n",
    "    df_returns = pd.concat(allperiods_frames, axis = \"rows\", join = 'outer') \n",
    "    return df_returns"
   ]
  },
  {
   "cell_type": "code",
   "execution_count": 71,
   "id": "3e4f9526",
   "metadata": {},
   "outputs": [],
   "source": [
    "df_basket_returns = get_basket_returns(universe)"
   ]
  },
  {
   "cell_type": "code",
   "execution_count": 72,
   "id": "8fb210f5",
   "metadata": {},
   "outputs": [],
   "source": [
    "def get_excess_monthly_returns(portfolio_returns, riskfree_returns) -> pd.DataFrame:\n",
    "    # Slice into restructuring period of interest\n",
    "    riskfree_returns = riskfree_returns.loc[portfolio_returns.index]\n",
    "    # Divide by 12 to reflect monthly risk-free rate and by 100 to get same magnitude\n",
    "    riskfree_returns = (riskfree_returns / 12) / 100\n",
    "    \n",
    "    excess_ret = []\n",
    "    for portfolio in portfolio_returns:\n",
    "        excess_ret.append(portfolio_returns[portfolio] - riskfree_returns['Rate'])\n",
    "    df_excess_ret = pd.concat(excess_ret, axis = \"columns\", join = 'outer')\n",
    "    df_excess_ret.columns = portfolio_returns.columns.to_list()\n",
    "    return df_excess_ret"
   ]
  },
  {
   "cell_type": "code",
   "execution_count": 73,
   "id": "7e77832a",
   "metadata": {},
   "outputs": [],
   "source": [
    "def get_cumulative_return(portfolio_returns) -> pd.DataFrame:\n",
    "    applied_ret = portfolio_returns.loc[begin_date:]\n",
    "    frames = []\n",
    "    for portfolio in applied_ret:\n",
    "        value = (1 + applied_ret[portfolio]).cumprod() - 1 \n",
    "        df = pd.DataFrame(value)\n",
    "        frames.append(df)\n",
    "    df_result = pd.concat(frames, axis = \"columns\", join = 'outer')\n",
    "    \n",
    "    # Adjusting up to normal percentage\n",
    "    df_result = df_result * 100\n",
    "    \n",
    "    return df_result"
   ]
  },
  {
   "cell_type": "code",
   "execution_count": 74,
   "id": "53ca63d4",
   "metadata": {},
   "outputs": [],
   "source": [
    "def get_portfolio_beta(portfolio_excess_returns, market_returns) -> pd.Series:\n",
    "    market_returns = market_returns.loc[portfolio_excess_returns.index]\n",
    "    riskfree_rates = (df_riskfree_rates.loc[portfolio_excess_returns.index] / 100) / 12\n",
    "    mr_minus_mf = pd.DataFrame()\n",
    "    mr_minus_mf['Market Excess Return'] = market_returns.sub(riskfree_rates['Rate'], axis = 'rows')\n",
    "    \n",
    "    beta_dict = {}\n",
    "    for portfolio in portfolio_excess_returns:\n",
    "        covar = mr_minus_mf['Market Excess Return'].cov(portfolio_excess_returns[portfolio])\n",
    "        var = mr_minus_mf['Market Excess Return'].var()\n",
    "        beta_dict[portfolio] = covar / var\n",
    "    beta = pd.Series(beta_dict, name='Beta')\n",
    "    return beta"
   ]
  },
  {
   "cell_type": "code",
   "execution_count": 75,
   "id": "d802eba7",
   "metadata": {},
   "outputs": [],
   "source": [
    "def get_portfolio_stdev(portfolio_returns) -> pd.Series:\n",
    "    stdev = portfolio_returns.std(axis = 0)\n",
    "    return stdev"
   ]
  },
  {
   "cell_type": "code",
   "execution_count": 76,
   "id": "a386eef5",
   "metadata": {},
   "outputs": [],
   "source": [
    "def get_historical_beta(monthly_price_change, riskfree_returns) -> pd.DataFrame:\n",
    "    riskfree_rates = (riskfree_returns.loc[monthly_price_change.index] / 12) / 100\n",
    "    historical_beta = monthly_price_change.sub(riskfree_rates['Rate'], axis = 'rows')\n",
    "    return historical_beta"
   ]
  },
  {
   "cell_type": "code",
   "execution_count": 77,
   "id": "8850adc2",
   "metadata": {},
   "outputs": [],
   "source": [
    "def get_portfolio_alpha(avg_portfolio_returns, beta, riskfree_returns, market_returns) -> pd.Series:\n",
    "    # Slice into restructuring period of interest\n",
    "    riskfree_returns = (riskfree_returns.loc[begin_date: end_date] / 12) / 100\n",
    "    market_returns = market_returns.loc[begin_date: end_date]\n",
    "    market_returns = market_returns\n",
    "    \n",
    "    # Get average risk free returns and market return\n",
    "    rf_avg = riskfree_returns['Rate'].mean()\n",
    "    mr_avg = market_returns['market_return'].mean()\n",
    "    \n",
    "    alpha_dict = {}\n",
    "    for portfolio, avg_portfolio_ret in avg_portfolio_returns.items():\n",
    "        avg_excess_ret = avg_portfolio_ret - rf_avg\n",
    "        expected_ret = beta[portfolio] * (mr_avg - rf_avg)\n",
    "        get_alpha = avg_excess_ret - expected_ret\n",
    "        alpha_dict[portfolio] = get_alpha\n",
    "    alpha = pd.Series(alpha_dict, name='Alpha')\n",
    "    return alpha"
   ]
  },
  {
   "cell_type": "markdown",
   "id": "b617e7d4",
   "metadata": {},
   "source": [
    "## Portfolio Calculations"
   ]
  },
  {
   "cell_type": "code",
   "execution_count": 78,
   "id": "45f7a512",
   "metadata": {},
   "outputs": [],
   "source": [
    "ew_monthly_ret = get_equal_weighted_monthly_returns(portfolios)\n",
    "vw_monthly_ret = get_value_weighted_monthly_returns(portfolios)"
   ]
  },
  {
   "cell_type": "code",
   "execution_count": 79,
   "id": "2e314bac",
   "metadata": {},
   "outputs": [],
   "source": [
    "ew_avg_ret = ew_monthly_ret.mean(axis = 'rows')\n",
    "vw_avg_ret = vw_monthly_ret.mean(axis = 'rows')"
   ]
  },
  {
   "cell_type": "code",
   "execution_count": 80,
   "id": "13226fd2",
   "metadata": {},
   "outputs": [],
   "source": [
    "ew_monthly_xret = get_excess_monthly_returns(ew_monthly_ret, df_riskfree_rates)\n",
    "vw_monthly_xret = get_excess_monthly_returns(vw_monthly_ret, df_riskfree_rates)"
   ]
  },
  {
   "cell_type": "code",
   "execution_count": 81,
   "id": "834c938e",
   "metadata": {},
   "outputs": [],
   "source": [
    "ew_avg_xret = ew_monthly_xret.mean(axis = 'rows')\n",
    "vw_avg_xret = vw_monthly_xret.mean(axis = 'rows')"
   ]
  },
  {
   "cell_type": "code",
   "execution_count": 82,
   "id": "2271914e",
   "metadata": {},
   "outputs": [],
   "source": [
    "ew_std = get_portfolio_stdev(ew_monthly_ret)\n",
    "vw_std = get_portfolio_stdev(vw_monthly_ret)"
   ]
  },
  {
   "cell_type": "code",
   "execution_count": 83,
   "id": "5dd2210e",
   "metadata": {},
   "outputs": [],
   "source": [
    "if benchmark == \"Basket\":\n",
    "    ew_beta = get_portfolio_beta(ew_monthly_xret, df_basket_returns)\n",
    "    vw_beta = get_portfolio_beta(vw_monthly_xret, df_basket_returns)\n",
    "elif benchmark == \"VNINDEX\":\n",
    "    ew_beta = get_portfolio_beta(ew_monthly_xret, df_market_return)\n",
    "    vw_beta = get_portfolio_beta(vw_monthly_xret, df_market_return)"
   ]
  },
  {
   "cell_type": "code",
   "execution_count": 84,
   "id": "7091cfc0",
   "metadata": {},
   "outputs": [],
   "source": [
    "if benchmark == \"Basket\":\n",
    "    ew_alpha = get_portfolio_alpha(ew_avg_ret, ew_beta, df_riskfree_rates, df_basket_returns)\n",
    "    vw_alpha = get_portfolio_alpha(vw_avg_ret, vw_beta, df_riskfree_rates, df_basket_returns)\n",
    "elif benchmark == \"VNINDEX\":\n",
    "    ew_alpha = get_portfolio_alpha(ew_avg_ret, ew_beta, df_riskfree_rates, df_market_return)\n",
    "    vw_alpha = get_portfolio_alpha(vw_avg_ret, vw_beta, df_riskfree_rates, df_market_return)"
   ]
  },
  {
   "cell_type": "markdown",
   "id": "6c0b3ee4",
   "metadata": {},
   "source": [
    "## Printing out results and export"
   ]
  },
  {
   "cell_type": "code",
   "execution_count": 85,
   "id": "58c230f2",
   "metadata": {},
   "outputs": [
    {
     "name": "stdout",
     "output_type": "stream",
     "text": [
      "Result Table for Equal Weighted Portfolios\n",
      "             Avg. Monthly Ret  Avg. Excess Ret  Std. Dev   Beta  Alpha\n",
      "Portfolio 1             0.295           -0.282     7.265  0.966 -0.609\n",
      "Portfolio 2             0.888            0.311     7.669  0.946 -0.009\n",
      "Portfolio 3             1.615            1.038     9.026  1.071  0.676\n",
      "Portfolio 4             2.262            1.685     9.021  1.065  1.325\n",
      "Portfolio 5             3.506            2.929    10.765  1.210  2.520\n",
      "\n",
      "Result Table for Value Weighted Portfolios\n",
      "             Avg. Monthly Ret  Avg. Excess Ret  Std. Dev   Beta  Alpha\n",
      "Portfolio 1             0.486           -0.091     7.322  1.002 -0.429\n",
      "Portfolio 2             0.738            0.161     7.840  0.972 -0.168\n",
      "Portfolio 3             1.936            1.359     8.933  1.123  0.980\n",
      "Portfolio 4             2.081            1.504     8.940  1.068  1.143\n",
      "Portfolio 5             2.436            1.859    10.100  1.186  1.459\n"
     ]
    }
   ],
   "source": [
    "ew_results = pd.concat({'Avg. Monthly Ret': round(ew_avg_ret * 100, 3), 'Avg. Excess Ret': round(ew_avg_xret * 100, 3), 'Std. Dev': round(ew_std * 100, 3), 'Beta': round(ew_beta, 3), 'Alpha': round(ew_alpha * 100, 3)}, axis = 1)\n",
    "vw_results = pd.concat({'Avg. Monthly Ret': round(vw_avg_ret * 100, 3), 'Avg. Excess Ret': round(vw_avg_xret * 100, 3), 'Std. Dev': round(vw_std * 100, 3), 'Beta': round(vw_beta, 3), 'Alpha': round(vw_alpha * 100, 3)}, axis = 1)\n",
    "\n",
    "if results_show:\n",
    "    print('Result Table for Equal Weighted Portfolios')\n",
    "    pprint(ew_results)\n",
    "    print()\n",
    "    \n",
    "    print('Result Table for Value Weighted Portfolios')\n",
    "    pprint(vw_results)"
   ]
  },
  {
   "cell_type": "code",
   "execution_count": 86,
   "id": "f7fa225c",
   "metadata": {},
   "outputs": [],
   "source": [
    "ew_cum_ret = get_cumulative_return(ew_monthly_ret)\n",
    "vw_cum_ret = get_cumulative_return(vw_monthly_ret)\n",
    "\n",
    "if benchmark == \"Basket\":\n",
    "    benchmark_cum_ret = get_cumulative_return(df_basket_returns)\n",
    "    vw_monthly_ret_with_benchmark = pd.concat([vw_monthly_ret, df_basket_returns], axis = 'columns', join = 'outer')\n",
    "elif benchmark == \"VNINDEX\":\n",
    "    benchmark_cum_ret = get_cumulative_return(df_market_return)\n",
    "    vw_monthly_ret_with_benchmark = pd.concat([vw_monthly_ret, df_market_return], axis = 'columns', join = 'outer')"
   ]
  },
  {
   "cell_type": "markdown",
   "id": "f67899ce",
   "metadata": {},
   "source": [
    "## Visualization"
   ]
  },
  {
   "cell_type": "code",
   "execution_count": 87,
   "id": "222e5ab6",
   "metadata": {},
   "outputs": [
    {
     "data": {
      "text/html": [
       "<div>\n",
       "<style scoped>\n",
       "    .dataframe tbody tr th:only-of-type {\n",
       "        vertical-align: middle;\n",
       "    }\n",
       "\n",
       "    .dataframe tbody tr th {\n",
       "        vertical-align: top;\n",
       "    }\n",
       "\n",
       "    .dataframe thead th {\n",
       "        text-align: right;\n",
       "    }\n",
       "</style>\n",
       "<table border=\"1\" class=\"dataframe\">\n",
       "  <thead>\n",
       "    <tr style=\"text-align: right;\">\n",
       "      <th></th>\n",
       "      <th>Portfolio 1</th>\n",
       "      <th>Portfolio 2</th>\n",
       "      <th>Portfolio 3</th>\n",
       "      <th>Portfolio 4</th>\n",
       "      <th>Portfolio 5</th>\n",
       "      <th>market_return</th>\n",
       "    </tr>\n",
       "    <tr>\n",
       "      <th>month</th>\n",
       "      <th></th>\n",
       "      <th></th>\n",
       "      <th></th>\n",
       "      <th></th>\n",
       "      <th></th>\n",
       "      <th></th>\n",
       "    </tr>\n",
       "  </thead>\n",
       "  <tbody>\n",
       "    <tr>\n",
       "      <th>2009-01-31</th>\n",
       "      <td>-0.065067</td>\n",
       "      <td>-0.012089</td>\n",
       "      <td>-0.020266</td>\n",
       "      <td>-0.024465</td>\n",
       "      <td>0.013872</td>\n",
       "      <td>-0.03932</td>\n",
       "    </tr>\n",
       "    <tr>\n",
       "      <th>2009-02-28</th>\n",
       "      <td>-0.191764</td>\n",
       "      <td>-0.170014</td>\n",
       "      <td>-0.283152</td>\n",
       "      <td>-0.136018</td>\n",
       "      <td>-0.160776</td>\n",
       "      <td>-0.18954</td>\n",
       "    </tr>\n",
       "    <tr>\n",
       "      <th>2009-03-31</th>\n",
       "      <td>0.205796</td>\n",
       "      <td>0.143159</td>\n",
       "      <td>0.181268</td>\n",
       "      <td>0.105548</td>\n",
       "      <td>0.186746</td>\n",
       "      <td>0.14226</td>\n",
       "    </tr>\n",
       "    <tr>\n",
       "      <th>2009-04-30</th>\n",
       "      <td>0.155580</td>\n",
       "      <td>0.108887</td>\n",
       "      <td>0.154276</td>\n",
       "      <td>0.132059</td>\n",
       "      <td>0.291288</td>\n",
       "      <td>0.14571</td>\n",
       "    </tr>\n",
       "    <tr>\n",
       "      <th>2009-05-31</th>\n",
       "      <td>0.206250</td>\n",
       "      <td>0.223528</td>\n",
       "      <td>0.428435</td>\n",
       "      <td>0.210385</td>\n",
       "      <td>0.298905</td>\n",
       "      <td>0.27985</td>\n",
       "    </tr>\n",
       "    <tr>\n",
       "      <th>...</th>\n",
       "      <td>...</td>\n",
       "      <td>...</td>\n",
       "      <td>...</td>\n",
       "      <td>...</td>\n",
       "      <td>...</td>\n",
       "      <td>...</td>\n",
       "    </tr>\n",
       "    <tr>\n",
       "      <th>2022-08-31</th>\n",
       "      <td>0.047168</td>\n",
       "      <td>0.095198</td>\n",
       "      <td>0.051470</td>\n",
       "      <td>0.080053</td>\n",
       "      <td>0.058869</td>\n",
       "      <td>0.06149</td>\n",
       "    </tr>\n",
       "    <tr>\n",
       "      <th>2022-09-30</th>\n",
       "      <td>-0.100935</td>\n",
       "      <td>-0.132448</td>\n",
       "      <td>-0.119808</td>\n",
       "      <td>-0.166338</td>\n",
       "      <td>-0.168195</td>\n",
       "      <td>-0.11589</td>\n",
       "    </tr>\n",
       "    <tr>\n",
       "      <th>2022-10-31</th>\n",
       "      <td>-0.092277</td>\n",
       "      <td>-0.168744</td>\n",
       "      <td>-0.160955</td>\n",
       "      <td>-0.218338</td>\n",
       "      <td>-0.267443</td>\n",
       "      <td>-0.09201</td>\n",
       "    </tr>\n",
       "    <tr>\n",
       "      <th>2022-11-30</th>\n",
       "      <td>0.047382</td>\n",
       "      <td>-0.059055</td>\n",
       "      <td>-0.000870</td>\n",
       "      <td>0.005044</td>\n",
       "      <td>-0.000343</td>\n",
       "      <td>0.01992</td>\n",
       "    </tr>\n",
       "    <tr>\n",
       "      <th>2022-12-31</th>\n",
       "      <td>-0.110259</td>\n",
       "      <td>-0.039712</td>\n",
       "      <td>-0.029833</td>\n",
       "      <td>-0.094312</td>\n",
       "      <td>-0.072657</td>\n",
       "      <td>-0.03732</td>\n",
       "    </tr>\n",
       "  </tbody>\n",
       "</table>\n",
       "<p>168 rows × 6 columns</p>\n",
       "</div>"
      ],
      "text/plain": [
       "            Portfolio 1  Portfolio 2  Portfolio 3  Portfolio 4  Portfolio 5  \\\n",
       "month                                                                         \n",
       "2009-01-31    -0.065067    -0.012089    -0.020266    -0.024465     0.013872   \n",
       "2009-02-28    -0.191764    -0.170014    -0.283152    -0.136018    -0.160776   \n",
       "2009-03-31     0.205796     0.143159     0.181268     0.105548     0.186746   \n",
       "2009-04-30     0.155580     0.108887     0.154276     0.132059     0.291288   \n",
       "2009-05-31     0.206250     0.223528     0.428435     0.210385     0.298905   \n",
       "...                 ...          ...          ...          ...          ...   \n",
       "2022-08-31     0.047168     0.095198     0.051470     0.080053     0.058869   \n",
       "2022-09-30    -0.100935    -0.132448    -0.119808    -0.166338    -0.168195   \n",
       "2022-10-31    -0.092277    -0.168744    -0.160955    -0.218338    -0.267443   \n",
       "2022-11-30     0.047382    -0.059055    -0.000870     0.005044    -0.000343   \n",
       "2022-12-31    -0.110259    -0.039712    -0.029833    -0.094312    -0.072657   \n",
       "\n",
       "            market_return  \n",
       "month                      \n",
       "2009-01-31       -0.03932  \n",
       "2009-02-28       -0.18954  \n",
       "2009-03-31        0.14226  \n",
       "2009-04-30        0.14571  \n",
       "2009-05-31        0.27985  \n",
       "...                   ...  \n",
       "2022-08-31        0.06149  \n",
       "2022-09-30       -0.11589  \n",
       "2022-10-31       -0.09201  \n",
       "2022-11-30        0.01992  \n",
       "2022-12-31       -0.03732  \n",
       "\n",
       "[168 rows x 6 columns]"
      ]
     },
     "execution_count": 87,
     "metadata": {},
     "output_type": "execute_result"
    }
   ],
   "source": [
    "vw_monthly_ret_with_benchmark.dropna(inplace = True)\n",
    "vw_monthly_ret_with_benchmark"
   ]
  },
  {
   "cell_type": "code",
   "execution_count": 88,
   "id": "c6383896",
   "metadata": {},
   "outputs": [
    {
     "data": {
      "text/html": [
       "<div>\n",
       "<style scoped>\n",
       "    .dataframe tbody tr th:only-of-type {\n",
       "        vertical-align: middle;\n",
       "    }\n",
       "\n",
       "    .dataframe tbody tr th {\n",
       "        vertical-align: top;\n",
       "    }\n",
       "\n",
       "    .dataframe thead th {\n",
       "        text-align: right;\n",
       "    }\n",
       "</style>\n",
       "<table border=\"1\" class=\"dataframe\">\n",
       "  <thead>\n",
       "    <tr style=\"text-align: right;\">\n",
       "      <th></th>\n",
       "      <th>Portfolio 1</th>\n",
       "      <th>Portfolio 2</th>\n",
       "      <th>Portfolio 3</th>\n",
       "      <th>Portfolio 4</th>\n",
       "      <th>Portfolio 5</th>\n",
       "      <th>market_return</th>\n",
       "    </tr>\n",
       "    <tr>\n",
       "      <th>month</th>\n",
       "      <th></th>\n",
       "      <th></th>\n",
       "      <th></th>\n",
       "      <th></th>\n",
       "      <th></th>\n",
       "      <th></th>\n",
       "    </tr>\n",
       "  </thead>\n",
       "  <tbody>\n",
       "    <tr>\n",
       "      <th>2008-12-31</th>\n",
       "      <td>NaN</td>\n",
       "      <td>NaN</td>\n",
       "      <td>NaN</td>\n",
       "      <td>NaN</td>\n",
       "      <td>NaN</td>\n",
       "      <td>0.280000</td>\n",
       "    </tr>\n",
       "    <tr>\n",
       "      <th>2009-01-31</th>\n",
       "      <td>-6.506721</td>\n",
       "      <td>-1.208945</td>\n",
       "      <td>-2.026574</td>\n",
       "      <td>-2.446458</td>\n",
       "      <td>1.387222</td>\n",
       "      <td>-3.663010</td>\n",
       "    </tr>\n",
       "    <tr>\n",
       "      <th>2009-02-28</th>\n",
       "      <td>-24.435379</td>\n",
       "      <td>-18.004812</td>\n",
       "      <td>-29.767931</td>\n",
       "      <td>-15.715522</td>\n",
       "      <td>-14.913429</td>\n",
       "      <td>-21.922723</td>\n",
       "    </tr>\n",
       "    <tr>\n",
       "      <th>2009-03-31</th>\n",
       "      <td>-8.884468</td>\n",
       "      <td>-6.266496</td>\n",
       "      <td>-17.037103</td>\n",
       "      <td>-6.819500</td>\n",
       "      <td>0.976164</td>\n",
       "      <td>-10.815449</td>\n",
       "    </tr>\n",
       "    <tr>\n",
       "      <th>2009-04-30</th>\n",
       "      <td>5.291315</td>\n",
       "      <td>3.939844</td>\n",
       "      <td>-4.237952</td>\n",
       "      <td>5.485864</td>\n",
       "      <td>30.389337</td>\n",
       "      <td>2.179632</td>\n",
       "    </tr>\n",
       "    <tr>\n",
       "      <th>...</th>\n",
       "      <td>...</td>\n",
       "      <td>...</td>\n",
       "      <td>...</td>\n",
       "      <td>...</td>\n",
       "      <td>...</td>\n",
       "      <td>...</td>\n",
       "    </tr>\n",
       "    <tr>\n",
       "      <th>2022-08-31</th>\n",
       "      <td>89.513451</td>\n",
       "      <td>220.361674</td>\n",
       "      <td>1764.587901</td>\n",
       "      <td>2733.198806</td>\n",
       "      <td>4328.374614</td>\n",
       "      <td>306.856224</td>\n",
       "    </tr>\n",
       "    <tr>\n",
       "      <th>2022-09-30</th>\n",
       "      <td>70.384839</td>\n",
       "      <td>177.930461</td>\n",
       "      <td>1541.195916</td>\n",
       "      <td>2261.930573</td>\n",
       "      <td>3583.545149</td>\n",
       "      <td>259.705656</td>\n",
       "    </tr>\n",
       "    <tr>\n",
       "      <th>2022-10-31</th>\n",
       "      <td>54.662272</td>\n",
       "      <td>131.031409</td>\n",
       "      <td>1277.037763</td>\n",
       "      <td>1746.230380</td>\n",
       "      <td>2598.408386</td>\n",
       "      <td>226.609139</td>\n",
       "    </tr>\n",
       "    <tr>\n",
       "      <th>2022-11-30</th>\n",
       "      <td>61.990547</td>\n",
       "      <td>117.387783</td>\n",
       "      <td>1275.839657</td>\n",
       "      <td>1755.542069</td>\n",
       "      <td>2597.481585</td>\n",
       "      <td>233.115193</td>\n",
       "    </tr>\n",
       "    <tr>\n",
       "      <th>2022-12-31</th>\n",
       "      <td>44.129623</td>\n",
       "      <td>108.754843</td>\n",
       "      <td>1234.794678</td>\n",
       "      <td>1580.542749</td>\n",
       "      <td>2401.491839</td>\n",
       "      <td>220.683334</td>\n",
       "    </tr>\n",
       "  </tbody>\n",
       "</table>\n",
       "<p>169 rows × 6 columns</p>\n",
       "</div>"
      ],
      "text/plain": [
       "            Portfolio 1  Portfolio 2  Portfolio 3  Portfolio 4  Portfolio 5  \\\n",
       "month                                                                         \n",
       "2008-12-31          NaN          NaN          NaN          NaN          NaN   \n",
       "2009-01-31    -6.506721    -1.208945    -2.026574    -2.446458     1.387222   \n",
       "2009-02-28   -24.435379   -18.004812   -29.767931   -15.715522   -14.913429   \n",
       "2009-03-31    -8.884468    -6.266496   -17.037103    -6.819500     0.976164   \n",
       "2009-04-30     5.291315     3.939844    -4.237952     5.485864    30.389337   \n",
       "...                 ...          ...          ...          ...          ...   \n",
       "2022-08-31    89.513451   220.361674  1764.587901  2733.198806  4328.374614   \n",
       "2022-09-30    70.384839   177.930461  1541.195916  2261.930573  3583.545149   \n",
       "2022-10-31    54.662272   131.031409  1277.037763  1746.230380  2598.408386   \n",
       "2022-11-30    61.990547   117.387783  1275.839657  1755.542069  2597.481585   \n",
       "2022-12-31    44.129623   108.754843  1234.794678  1580.542749  2401.491839   \n",
       "\n",
       "            market_return  \n",
       "month                      \n",
       "2008-12-31       0.280000  \n",
       "2009-01-31      -3.663010  \n",
       "2009-02-28     -21.922723  \n",
       "2009-03-31     -10.815449  \n",
       "2009-04-30       2.179632  \n",
       "...                   ...  \n",
       "2022-08-31     306.856224  \n",
       "2022-09-30     259.705656  \n",
       "2022-10-31     226.609139  \n",
       "2022-11-30     233.115193  \n",
       "2022-12-31     220.683334  \n",
       "\n",
       "[169 rows x 6 columns]"
      ]
     },
     "execution_count": 88,
     "metadata": {},
     "output_type": "execute_result"
    }
   ],
   "source": [
    "df_cum_ret = pd.concat([vw_cum_ret, benchmark_cum_ret], axis = 'columns', join = 'outer')\n",
    "df_cum_ret"
   ]
  },
  {
   "cell_type": "code",
   "execution_count": 89,
   "id": "5b0d335a",
   "metadata": {},
   "outputs": [
    {
     "data": {
      "image/png": "[encoded data removed]",
      "text/plain": [
       "<Figure size 720x576 with 1 Axes>"
      ]
     },
     "metadata": {
      "needs_background": "light"
     },
     "output_type": "display_data"
    }
   ],
   "source": [
    "df_cum_ret.plot(kind = 'line', figsize = (10, 8), use_index = True, title = \"Cumulative Returns of Portfolios vs. Benchmark\", xlabel = \"Time\", ylabel = \"Cumulative Percent Return (%)\")\n",
    "plt.show()"
   ]
  },
  {
   "cell_type": "code",
   "execution_count": 90,
   "id": "d8ef13b5",
   "metadata": {},
   "outputs": [
    {
     "name": "stdout",
     "output_type": "stream",
     "text": [
      "Number of companies in screened universe per year\n"
     ]
    },
    {
     "data": {
      "text/plain": [
       "<BarContainer object of 14 artists>"
      ]
     },
     "execution_count": 90,
     "metadata": {},
     "output_type": "execute_result"
    },
    {
     "data": {
      "image/png": "[encoded data removed]",
      "text/plain": [
       "<Figure size 432x288 with 1 Axes>"
      ]
     },
     "metadata": {
      "needs_background": "light"
     },
     "output_type": "display_data"
    }
   ],
   "source": [
    "dates_plot = []\n",
    "heights = []\n",
    "for item in restructuring_dates.to_list():\n",
    "    dates_plot.append(item.date().year)\n",
    "    heights.append(len(universe[item]))\n",
    "\n",
    "print(\"Number of companies in screened universe per year\")\n",
    "plt.bar(x = dates_plot, height = heights)"
   ]
  },
  {
   "cell_type": "code",
   "execution_count": null,
   "id": "e1757dd5",
   "metadata": {},
   "outputs": [],
   "source": []
  }
 ],
 "metadata": {
  "kernelspec": {
   "display_name": "Python 3 (ipykernel)",
   "language": "python",
   "name": "python3"
  },
  "language_info": {
   "codemirror_mode": {
    "name": "ipython",
    "version": 3
   },
   "file_extension": ".py",
   "mimetype": "text/x-python",
   "name": "python",
   "nbconvert_exporter": "python",
   "pygments_lexer": "ipython3",
   "version": "3.9.12"
  }
 },
 "nbformat": 4,
 "nbformat_minor": 5
}
